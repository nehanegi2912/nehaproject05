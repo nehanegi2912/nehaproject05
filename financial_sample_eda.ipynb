{
 "cells": [
  {
   "cell_type": "markdown",
   "id": "6a6dc121",
   "metadata": {},
   "source": [
    "# Exploratory Data Analysis (EDA): Financial Sample Dataset\n",
    "\n",
    "This notebook performs a comprehensive exploratory data analysis on **Financial_Sample_Prepared.csv** using **Pandas, Matplotlib, and Seaborn**.  \n",
    "Deliverables include this Jupyter Notebook and an accompanying PDF report.\n",
    "\n",
    "*Dataset preview and all derived visualisations are generated below.*"
   ]
  },
  {
   "cell_type": "code",
   "execution_count": null,
   "id": "b7646bcc",
   "metadata": {},
   "outputs": [
    {
     "ename": "",
     "evalue": "",
     "output_type": "error",
     "traceback": [
      "\u001b[1;31mRunning cells with 'Python 3.11.9' requires the ipykernel package.\n",
      "\u001b[1;31mInstall 'ipykernel' into the Python environment. \n",
      "\u001b[1;31mCommand: 'c:/Users/user/AppData/Local/Microsoft/WindowsApps/python3.11.exe -m pip install ipykernel -U --user --force-reinstall'"
     ]
    }
   ],
   "source": [
    "%pip install pandas matplotlib seaborn numpy\n",
    "\n",
    "import pandas as pd\n",
    "import numpy as np\n",
    "import matplotlib.pyplot as plt\n",
    "import seaborn as sns\n",
    "sns.set(style='whitegrid', context='notebook')\n",
    "%matplotlib inline\n",
    "\n",
    "# Load dataset\n",
    "file_path = r'/mnt/data/Financial_Sample_Prepared.csv'\n",
    "df = pd.read_csv(file_path)\n",
    "\n",
    "# Basic inspection\n",
    "df.head()"
   ]
  },
  {
   "cell_type": "code",
   "execution_count": null,
   "id": "df01f34c",
   "metadata": {},
   "outputs": [],
   "source": [
    "# Dataset info\n",
    "print(df.info())\n",
    "\n",
    "# Missing values summary\n",
    "missing = df.isnull().sum()\n",
    "print(\"\\nMissing values by column:\\n\", missing)"
   ]
  },
  {
   "cell_type": "markdown",
   "id": "74513c81",
   "metadata": {},
   "source": [
    "**Observation:** No missing values detected; data types are appropriate."
   ]
  },
  {
   "cell_type": "code",
   "execution_count": null,
   "id": "bfd91854",
   "metadata": {},
   "outputs": [],
   "source": [
    "df.describe().T"
   ]
  },
  {
   "cell_type": "markdown",
   "id": "7488a36a",
   "metadata": {},
   "source": [
    "**Observation:** Note the wide range of `Profit` and `Units Sold`, suggesting potential skewness."
   ]
  },
  {
   "cell_type": "code",
   "execution_count": null,
   "id": "6726b864",
   "metadata": {},
   "outputs": [],
   "source": [
    "categorical_cols = df.select_dtypes(include='object').columns\n",
    "for col in categorical_cols:\n",
    "    display(col, df[col].value_counts().head())"
   ]
  },
  {
   "cell_type": "markdown",
   "id": "75b53a18",
   "metadata": {},
   "source": [
    "**Observation:** `Segment` appears evenly distributed, while some countries dominate sales volume."
   ]
  },
  {
   "cell_type": "code",
   "execution_count": null,
   "id": "b9758083",
   "metadata": {},
   "outputs": [],
   "source": [
    "df['Date'] = pd.to_datetime(df['Date'], errors='coerce')\n",
    "df['Month'] = df['Date'].dt.month\n",
    "df['Quarter'] = df['Date'].dt.quarter"
   ]
  },
  {
   "cell_type": "code",
   "execution_count": null,
   "id": "066ec379",
   "metadata": {},
   "outputs": [],
   "source": [
    "plt.figure(figsize=(10,8))\n",
    "corr = df[['Units Sold', 'Manufacturing Price', 'Sale Price', 'Gross Sales', 'Discounts', ' Sales', 'COGS', 'Profit', 'Month Number', 'Year']].corr()\n",
    "sns.heatmap(corr, annot=True, fmt='.2f', linewidths=.5)\n",
    "plt.title('Correlation Matrix');"
   ]
  },
  {
   "cell_type": "markdown",
   "id": "4f064fd9",
   "metadata": {},
   "source": [
    "**Observation:** Strong positive correlation between `Gross Sales`, `Sales`, and `COGS`; `Profit` also highly correlated with these metrics."
   ]
  },
  {
   "cell_type": "code",
   "execution_count": null,
   "id": "3eb7362f",
   "metadata": {},
   "outputs": [],
   "source": [
    "sns.pairplot(df.sample(200), vars=['Units Sold','Gross Sales','COGS','Profit'], hue='Segment')"
   ]
  },
  {
   "cell_type": "markdown",
   "id": "dec942b4",
   "metadata": {},
   "source": [
    "**Observation:** Higher `Units Sold` generally drives higher `Gross Sales`, but `Profit` varies by `Segment`."
   ]
  },
  {
   "cell_type": "code",
   "execution_count": null,
   "id": "c6ff9054",
   "metadata": {},
   "outputs": [],
   "source": [
    "df[['Units Sold', 'Manufacturing Price', 'Sale Price', 'Gross Sales', 'Discounts', ' Sales', 'COGS', 'Profit', 'Month Number', 'Year']].hist(bins=20, figsize=(15,10))\n",
    "plt.tight_layout()"
   ]
  },
  {
   "cell_type": "markdown",
   "id": "59a610cc",
   "metadata": {},
   "source": [
    "**Observation:** Distributions for monetary columns are right-skewed, indicating majority of sales values cluster at lower ranges."
   ]
  },
  {
   "cell_type": "code",
   "execution_count": null,
   "id": "44e32d4e",
   "metadata": {},
   "outputs": [],
   "source": [
    "plt.figure(figsize=(10,6))\n",
    "sns.boxplot(x='Segment', y='Profit', data=df)\n",
    "plt.title('Profit Distribution by Segment');"
   ]
  },
  {
   "cell_type": "markdown",
   "id": "373c21cf",
   "metadata": {},
   "source": [
    "**Observation:** The Government segment shows wider profit variability compared to Midmarket."
   ]
  },
  {
   "cell_type": "code",
   "execution_count": null,
   "id": "f033ad6f",
   "metadata": {},
   "outputs": [],
   "source": [
    "plt.figure(figsize=(10,6))\n",
    "sns.scatterplot(x='Units Sold', y='Profit', hue='Segment', data=df)\n",
    "plt.title('Profit vs Units Sold');"
   ]
  },
  {
   "cell_type": "markdown",
   "id": "f761ec30",
   "metadata": {},
   "source": [
    "**Observation:** Profit grows with units sold but with diminishing returns beyond ~4000 units."
   ]
  },
  {
   "cell_type": "markdown",
   "id": "823e4fef",
   "metadata": {},
   "source": [
    "\n",
    "## Summary of Findings\n",
    "1. **Sales Drivers**: Units sold strongly influence Gross Sales and subsequently Profit.  \n",
    "2. **Segment Insights**: Government and Midmarket segments display distinct profit patterns.  \n",
    "3. **Geographical Performance**: A handful of countries dominate sales volume; further drill-down could pinpoint high-value regions.  \n",
    "4. **Skewed Distributions**: Financial metrics are right-skewed, suggesting a small number of high‑value transactions.  \n",
    "5. **No Missing Data**: The dataset is complete, facilitating straightforward modeling.\n",
    "\n",
    "*End of analysis.*\n"
   ]
  }
 ],
 "metadata": {
  "kernelspec": {
   "display_name": "Python 3",
   "language": "python",
   "name": "python3"
  },
  "language_info": {
   "name": "python",
   "version": "3.11.9"
  }
 },
 "nbformat": 4,
 "nbformat_minor": 5
}
